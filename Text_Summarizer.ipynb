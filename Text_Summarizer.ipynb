{
  "nbformat": 4,
  "nbformat_minor": 0,
  "metadata": {
    "colab": {
      "provenance": [],
      "authorship_tag": "ABX9TyNiRs/LVAdGlDnu5b17PfTV",
      "include_colab_link": true
    },
    "kernelspec": {
      "name": "python3",
      "display_name": "Python 3"
    },
    "language_info": {
      "name": "python"
    }
  },
  "cells": [
    {
      "cell_type": "markdown",
      "metadata": {
        "id": "view-in-github",
        "colab_type": "text"
      },
      "source": [
        "<a href=\"https://colab.research.google.com/github/liyanambava/Text-Summarizer-NLP/blob/main/Text_Summarizer.ipynb\" target=\"_parent\"><img src=\"https://colab.research.google.com/assets/colab-badge.svg\" alt=\"Open In Colab\"/></a>"
      ]
    },
    {
      "cell_type": "code",
      "source": [
        "from nltk.corpus import stopwords\n",
        "from nltk.tokenize import word_tokenize, sent_tokenize"
      ],
      "metadata": {
        "id": "oTxQIQTp7MIy"
      },
      "execution_count": 47,
      "outputs": []
    },
    {
      "cell_type": "code",
      "source": [
        "import nltk\n",
        "nltk.download('stopwords')\n",
        "nltk.download('punkt')"
      ],
      "metadata": {
        "colab": {
          "base_uri": "https://localhost:8080/"
        },
        "id": "oFcVWmFK74BQ",
        "outputId": "61b4c226-6d3d-4f86-b606-12399bceae90"
      },
      "execution_count": 23,
      "outputs": [
        {
          "output_type": "stream",
          "name": "stderr",
          "text": [
            "[nltk_data] Downloading package stopwords to /root/nltk_data...\n",
            "[nltk_data]   Unzipping corpora/stopwords.zip.\n",
            "[nltk_data] Downloading package punkt to /root/nltk_data...\n",
            "[nltk_data]   Unzipping tokenizers/punkt.zip.\n"
          ]
        },
        {
          "output_type": "execute_result",
          "data": {
            "text/plain": [
              "True"
            ]
          },
          "metadata": {},
          "execution_count": 23
        }
      ]
    },
    {
      "cell_type": "markdown",
      "source": [
        "**ENTER INPUT HERE**"
      ],
      "metadata": {
        "id": "LNrXpbAfQ-wN"
      }
    },
    {
      "cell_type": "code",
      "source": [
        "text = input(\"Enter text to summarize: \")"
      ],
      "metadata": {
        "colab": {
          "base_uri": "https://localhost:8080/"
        },
        "id": "OcYDLr0I8E7U",
        "outputId": "c76cc53d-d05d-46f5-a62e-c767c4ee76de"
      },
      "execution_count": 74,
      "outputs": [
        {
          "name": "stdout",
          "output_type": "stream",
          "text": [
            "Enter text to summarize: Barbie is a fashion doll created by American businesswoman Ruth Handler, manufactured by American toy company Mattel and launched in 1959. The toy is the figurehead of the Barbie brand that includes a range of fashion dolls and accessories. Barbie has been an important part of the toy fashion doll market for over six decades. Mattel has sold over a billion Barbie dolls, making it the company's largest and most profitable line.[1] The brand has expanded into a multimedia franchise since the late 1980s, including video games, computer-animated films, and a live-action film.  Barbie and her male counterpart, Ken, have been described as the two most popular dolls in the world.[2] Since its launch, Barbie has transformed the toy business in affluent communities globally by becoming a vehicle for the sale of related merchandise (accessories, clothes, friends and relatives of Barbie, etc.). Writing for Journal of Popular Culture in 1977, Don Richard Cox noted that Barbie has a significant impact on social values by conveying characteristics of female independence, and with her multitude of accessories, an idealized upscale lifestyle that can be shared with affluent friends.[3]  Sales of Barbie dolls declined sharply from 2014 to 2016.[1] In 2020, Mattel sold $1.35 billion worth of Barbie dolls and accessories, and this was their best sales growth in two decades. This is an increase from the $950 million the brand sold during 2017.[4] According to MarketWatch, the release of the 2023 film Barbie is expected to create \"significant growth\" for the brand until at least 2030.[5] As well as reinvigorated sales, the release of the film has triggered a fashion trend known as \"Barbiecore\".[6]\n"
          ]
        }
      ]
    },
    {
      "cell_type": "code",
      "source": [
        "sw = set(stopwords.words(\"english\"))"
      ],
      "metadata": {
        "id": "4iPGmYMd8UEN"
      },
      "execution_count": 75,
      "outputs": []
    },
    {
      "cell_type": "code",
      "source": [
        "import re\n",
        "def remCitation(text):\n",
        "    cleaned = re.sub(r'(\\([^)]*\\)|\\[[^]]*\\]|\\{[^}]*\\})', '', text)\n",
        "    return cleaned\n",
        "\n",
        "text = remCitation(text)"
      ],
      "metadata": {
        "id": "JWCAfVXAQPeC"
      },
      "execution_count": 88,
      "outputs": []
    },
    {
      "cell_type": "code",
      "source": [
        "words = word_tokenize(text)"
      ],
      "metadata": {
        "id": "dPjXuWx38hnO"
      },
      "execution_count": 89,
      "outputs": []
    },
    {
      "cell_type": "code",
      "source": [
        "freq = dict()\n",
        "\n",
        "for word in words:\n",
        "    word = word.lower()\n",
        "    if word in sw:\n",
        "        continue\n",
        "    if word in freq:\n",
        "        freq[word] += 1\n",
        "    else:\n",
        "        freq[word] = 1"
      ],
      "metadata": {
        "id": "vBXX8pYB8rC5"
      },
      "execution_count": 90,
      "outputs": []
    },
    {
      "cell_type": "code",
      "source": [
        "freq"
      ],
      "metadata": {
        "colab": {
          "base_uri": "https://localhost:8080/"
        },
        "id": "T7duqGnPC_I7",
        "outputId": "350ef036-445b-4541-8413-b5a93d069455"
      },
      "execution_count": 91,
      "outputs": [
        {
          "output_type": "execute_result",
          "data": {
            "text/plain": [
              "{'barbie': 10,\n",
              " 'fashion': 4,\n",
              " 'doll': 2,\n",
              " 'created': 1,\n",
              " 'american': 2,\n",
              " 'businesswoman': 1,\n",
              " 'ruth': 1,\n",
              " 'handler': 1,\n",
              " ',': 15,\n",
              " 'manufactured': 1,\n",
              " 'toy': 4,\n",
              " 'company': 2,\n",
              " 'mattel': 3,\n",
              " 'launched': 1,\n",
              " '1959': 1,\n",
              " '.': 13,\n",
              " 'figurehead': 1,\n",
              " 'brand': 4,\n",
              " 'includes': 1,\n",
              " 'range': 1,\n",
              " 'dolls': 5,\n",
              " 'accessories': 3,\n",
              " 'important': 1,\n",
              " 'part': 1,\n",
              " 'market': 1,\n",
              " 'six': 1,\n",
              " 'decades': 2,\n",
              " 'sold': 3,\n",
              " 'billion': 2,\n",
              " 'making': 1,\n",
              " \"'s\": 1,\n",
              " 'largest': 1,\n",
              " 'profitable': 1,\n",
              " 'line': 1,\n",
              " 'expanded': 1,\n",
              " 'multimedia': 1,\n",
              " 'franchise': 1,\n",
              " 'since': 2,\n",
              " 'late': 1,\n",
              " '1980s': 1,\n",
              " 'including': 1,\n",
              " 'video': 1,\n",
              " 'games': 1,\n",
              " 'computer-animated': 1,\n",
              " 'films': 1,\n",
              " 'live-action': 1,\n",
              " 'film': 3,\n",
              " 'male': 1,\n",
              " 'counterpart': 1,\n",
              " 'ken': 1,\n",
              " 'described': 1,\n",
              " 'two': 2,\n",
              " 'popular': 2,\n",
              " 'world': 1,\n",
              " 'launch': 1,\n",
              " 'transformed': 1,\n",
              " 'business': 1,\n",
              " 'affluent': 2,\n",
              " 'communities': 1,\n",
              " 'globally': 1,\n",
              " 'becoming': 1,\n",
              " 'vehicle': 1,\n",
              " 'sale': 1,\n",
              " 'related': 1,\n",
              " 'merchandise': 1,\n",
              " 'writing': 1,\n",
              " 'journal': 1,\n",
              " 'culture': 1,\n",
              " '1977': 1,\n",
              " 'richard': 1,\n",
              " 'cox': 1,\n",
              " 'noted': 1,\n",
              " 'significant': 2,\n",
              " 'impact': 1,\n",
              " 'social': 1,\n",
              " 'values': 1,\n",
              " 'conveying': 1,\n",
              " 'characteristics': 1,\n",
              " 'female': 1,\n",
              " 'independence': 1,\n",
              " 'multitude': 1,\n",
              " 'idealized': 1,\n",
              " 'upscale': 1,\n",
              " 'lifestyle': 1,\n",
              " 'shared': 1,\n",
              " 'friends': 1,\n",
              " 'sales': 3,\n",
              " 'declined': 1,\n",
              " 'sharply': 1,\n",
              " '2014': 1,\n",
              " '2016': 1,\n",
              " '2020': 1,\n",
              " '$': 2,\n",
              " '1.35': 1,\n",
              " 'worth': 1,\n",
              " 'best': 1,\n",
              " 'growth': 2,\n",
              " 'increase': 1,\n",
              " '950': 1,\n",
              " 'million': 1,\n",
              " '2017': 1,\n",
              " 'according': 1,\n",
              " 'marketwatch': 1,\n",
              " 'release': 2,\n",
              " '2023': 1,\n",
              " 'expected': 1,\n",
              " 'create': 1,\n",
              " '``': 2,\n",
              " \"''\": 2,\n",
              " 'least': 1,\n",
              " '2030': 1,\n",
              " 'well': 1,\n",
              " 'reinvigorated': 1,\n",
              " 'triggered': 1,\n",
              " 'trend': 1,\n",
              " 'known': 1,\n",
              " 'barbiecore': 1}"
            ]
          },
          "metadata": {},
          "execution_count": 91
        }
      ]
    },
    {
      "cell_type": "code",
      "source": [
        "sentence = sent_tokenize(text)"
      ],
      "metadata": {
        "id": "ouFvDolhDAoq"
      },
      "execution_count": 92,
      "outputs": []
    },
    {
      "cell_type": "code",
      "source": [
        "sentence"
      ],
      "metadata": {
        "colab": {
          "base_uri": "https://localhost:8080/"
        },
        "id": "boAjkM1tDlTZ",
        "outputId": "7f79a948-d8c6-4b69-fac5-d6b86e1c73fd"
      },
      "execution_count": 93,
      "outputs": [
        {
          "output_type": "execute_result",
          "data": {
            "text/plain": [
              "['Barbie is a fashion doll created by American businesswoman Ruth Handler, manufactured by American toy company Mattel and launched in 1959.',\n",
              " 'The toy is the figurehead of the Barbie brand that includes a range of fashion dolls and accessories.',\n",
              " 'Barbie has been an important part of the toy fashion doll market for over six decades.',\n",
              " \"Mattel has sold over a billion Barbie dolls, making it the company's largest and most profitable line.\",\n",
              " 'The brand has expanded into a multimedia franchise since the late 1980s, including video games, computer-animated films, and a live-action film.',\n",
              " 'Barbie and her male counterpart, Ken, have been described as the two most popular dolls in the world.',\n",
              " 'Since its launch, Barbie has transformed the toy business in affluent communities globally by becoming a vehicle for the sale of related merchandise .',\n",
              " 'Writing for Journal of Popular Culture in 1977, Don Richard Cox noted that Barbie has a significant impact on social values by conveying characteristics of female independence, and with her multitude of accessories, an idealized upscale lifestyle that can be shared with affluent friends.',\n",
              " 'Sales of Barbie dolls declined sharply from 2014 to 2016.',\n",
              " 'In 2020, Mattel sold $1.35 billion worth of Barbie dolls and accessories, and this was their best sales growth in two decades.',\n",
              " 'This is an increase from the $950 million the brand sold during 2017.',\n",
              " 'According to MarketWatch, the release of the 2023 film Barbie is expected to create \"significant growth\" for the brand until at least 2030.',\n",
              " 'As well as reinvigorated sales, the release of the film has triggered a fashion trend known as \"Barbiecore\".']"
            ]
          },
          "metadata": {},
          "execution_count": 93
        }
      ]
    },
    {
      "cell_type": "code",
      "source": [
        "def getSentenceValue():\n",
        "    sentVal = dict()\n",
        "    for sent in sentence:\n",
        "        for word, fr in freq.items():\n",
        "            if word in sent.lower():\n",
        "                if sent in sentVal:\n",
        "                    sentVal[sent] += fr\n",
        "                else:\n",
        "                    sentVal[sent] = 1\n",
        "    return sentVal"
      ],
      "metadata": {
        "id": "HWfdM9wJDmbt"
      },
      "execution_count": 94,
      "outputs": []
    },
    {
      "cell_type": "code",
      "source": [
        "sentVal = getSentenceValue()\n",
        "sentVal"
      ],
      "metadata": {
        "colab": {
          "base_uri": "https://localhost:8080/"
        },
        "id": "Jeb2EAxxE-n3",
        "outputId": "af487407-9470-4fec-e3de-73e5fb4e88b1"
      },
      "execution_count": 95,
      "outputs": [
        {
          "output_type": "execute_result",
          "data": {
            "text/plain": [
              "{'Barbie is a fashion doll created by American businesswoman Ruth Handler, manufactured by American toy company Mattel and launched in 1959.': 56,\n",
              " 'The toy is the figurehead of the Barbie brand that includes a range of fashion dolls and accessories.': 39,\n",
              " 'Barbie has been an important part of the toy fashion doll market for over six decades.': 30,\n",
              " \"Mattel has sold over a billion Barbie dolls, making it the company's largest and most profitable line.\": 51,\n",
              " 'The brand has expanded into a multimedia franchise since the late 1980s, including video games, computer-animated films, and a live-action film.': 34,\n",
              " 'Barbie and her male counterpart, Ken, have been described as the two most popular dolls in the world.': 46,\n",
              " 'Since its launch, Barbie has transformed the toy business in affluent communities globally by becoming a vehicle for the sale of related merchandise .': 48,\n",
              " 'Writing for Journal of Popular Culture in 1977, Don Richard Cox noted that Barbie has a significant impact on social values by conveying characteristics of female independence, and with her multitude of accessories, an idealized upscale lifestyle that can be shared with affluent friends.': 59,\n",
              " 'Sales of Barbie dolls declined sharply from 2014 to 2016.': 30,\n",
              " 'In 2020, Mattel sold $1.35 billion worth of Barbie dolls and accessories, and this was their best sales growth in two decades.': 63,\n",
              " 'This is an increase from the $950 million the brand sold during 2017.': 14,\n",
              " 'According to MarketWatch, the release of the 2023 film Barbie is expected to create \"significant growth\" for the brand until at least 2030.': 50,\n",
              " 'As well as reinvigorated sales, the release of the film has triggered a fashion trend known as \"Barbiecore\".': 48}"
            ]
          },
          "metadata": {},
          "execution_count": 95
        }
      ]
    },
    {
      "cell_type": "code",
      "source": [
        "def getsumVal():\n",
        "    sumVal = 0\n",
        "    for sent in sentVal:\n",
        "        sumVal += sentVal[sent]\n",
        "\n",
        "    avg = int(sumVal/len(sentVal))\n",
        "    return avg"
      ],
      "metadata": {
        "id": "RG3DW_AJFLYG"
      },
      "execution_count": 96,
      "outputs": []
    },
    {
      "cell_type": "code",
      "source": [
        "avrg = getsumVal()\n",
        "avrg"
      ],
      "metadata": {
        "colab": {
          "base_uri": "https://localhost:8080/"
        },
        "id": "BG_U2KV_NvYl",
        "outputId": "356849da-20f2-4881-8976-1a8b02f4e09b"
      },
      "execution_count": 97,
      "outputs": [
        {
          "output_type": "execute_result",
          "data": {
            "text/plain": [
              "43"
            ]
          },
          "metadata": {},
          "execution_count": 97
        }
      ]
    },
    {
      "cell_type": "code",
      "source": [
        "summary = ''\n",
        "for sent in sentence:\n",
        "    if(sent in sentVal) and (sentVal[sent]>(1.2*avrg)):\n",
        "        summary += \" \" + sent"
      ],
      "metadata": {
        "id": "T-zcrz8cNzjq"
      },
      "execution_count": 98,
      "outputs": []
    },
    {
      "cell_type": "code",
      "source": [
        "summary"
      ],
      "metadata": {
        "colab": {
          "base_uri": "https://localhost:8080/",
          "height": 143
        },
        "id": "iuwh84mUO9nv",
        "outputId": "db68e1b3-4cbf-4f9d-e1dd-81fcf9b10b35"
      },
      "execution_count": 99,
      "outputs": [
        {
          "output_type": "execute_result",
          "data": {
            "text/plain": [
              "' Barbie is a fashion doll created by American businesswoman Ruth Handler, manufactured by American toy company Mattel and launched in 1959. Writing for Journal of Popular Culture in 1977, Don Richard Cox noted that Barbie has a significant impact on social values by conveying characteristics of female independence, and with her multitude of accessories, an idealized upscale lifestyle that can be shared with affluent friends. In 2020, Mattel sold $1.35 billion worth of Barbie dolls and accessories, and this was their best sales growth in two decades.'"
            ],
            "application/vnd.google.colaboratory.intrinsic+json": {
              "type": "string"
            }
          },
          "metadata": {},
          "execution_count": 99
        }
      ]
    },
    {
      "cell_type": "code",
      "source": [],
      "metadata": {
        "id": "NFwz5NlKPE-D"
      },
      "execution_count": null,
      "outputs": []
    }
  ]
}